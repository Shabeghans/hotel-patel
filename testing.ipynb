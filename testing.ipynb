{
 "cells": [
  {
   "cell_type": "code",
   "execution_count": 11,
   "metadata": {},
   "outputs": [],
   "source": [
    "import pandas as pd\n",
    "from PyPDF2 import PdfReader, PdfWriter\n",
    "\n"
   ]
  },
  {
   "cell_type": "code",
   "execution_count": 13,
   "metadata": {},
   "outputs": [],
   "source": [
    "def extract_nth_page(input_pdf_path, output_pdf_path, n):\n",
    "\n",
    "    with open(input_pdf_path, \"rb\") as file:\n",
    "        pdf_reader = PdfReader(file)\n",
    "        \n",
    "        # Check if n is within the range of available pages\n",
    "        if n < 1 or n > len(pdf_reader.pages):\n",
    "            print(f\"Error: The PDF does not have a page number {n}.\")\n",
    "            return\n",
    "        \n",
    "        # Create a new PDF writer\n",
    "        pdf_writer = PdfWriter()\n",
    "        \n",
    "        # Add the nth page to the writer (adjusting for 0-based index)\n",
    "        pdf_writer.add_page(pdf_reader.pages[n - 1])\n",
    "        \n",
    "        # Save the new PDF\n",
    "        with open(output_pdf_path, \"wb\") as output_file:\n",
    "            pdf_writer.write(output_file)\n",
    "\n",
    "# Example usage\n",
    "input_pdf_path = \"night_audits.pdf\"\n",
    "output_pdf_path = \"one_page.pdf\"\n",
    "\n",
    "extract_nth_page(input_pdf_path, output_pdf_path, 2)"
   ]
  },
  {
   "cell_type": "code",
   "execution_count": null,
   "metadata": {},
   "outputs": [],
   "source": []
  }
 ],
 "metadata": {
  "kernelspec": {
   "display_name": "Python 3",
   "language": "python",
   "name": "python3"
  },
  "language_info": {
   "codemirror_mode": {
    "name": "ipython",
    "version": 3
   },
   "file_extension": ".py",
   "mimetype": "text/x-python",
   "name": "python",
   "nbconvert_exporter": "python",
   "pygments_lexer": "ipython3",
   "version": "3.12.4"
  }
 },
 "nbformat": 4,
 "nbformat_minor": 2
}
